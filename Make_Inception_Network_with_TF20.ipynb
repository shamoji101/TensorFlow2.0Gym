{
  "nbformat": 4,
  "nbformat_minor": 0,
  "metadata": {
    "colab": {
      "name": "Make_Inception_Network_with_TF20.ipynb",
      "provenance": [],
      "toc_visible": true,
      "include_colab_link": true
    },
    "kernelspec": {
      "name": "python3",
      "display_name": "Python 3"
    },
    "accelerator": "GPU"
  },
  "cells": [
    {
      "cell_type": "markdown",
      "metadata": {
        "id": "view-in-github",
        "colab_type": "text"
      },
      "source": [
        "<a href=\"https://colab.research.google.com/github/shamoji101/TensorFlow2.0Gym/blob/add_make_inception_with_tf20/Make_Inception_Network_with_TF20.ipynb\" target=\"_parent\"><img src=\"https://colab.research.google.com/assets/colab-badge.svg\" alt=\"Open In Colab\"/></a>"
      ]
    },
    {
      "cell_type": "markdown",
      "metadata": {
        "id": "s0gepEqW13oR",
        "colab_type": "text"
      },
      "source": [
        "# はじめに\n",
        "\n",
        "今回の記事では、TF2.0付属のKerasModuleを用いて、様々な内容の\n",
        "この記事はColabratoryで直接動かすことができます。\n",
        "動かしながら確認したい方は是非利用してみてください。\n"
      ]
    },
    {
      "cell_type": "markdown",
      "metadata": {
        "id": "vejcSCLN2CeY",
        "colab_type": "text"
      },
      "source": [
        "# 新しく統合されたKerasと3つのAPIについて\n",
        "\n",
        "KerasはTF2.0からcontribレイヤーから正式なTFの仲間入りをしました。\n",
        "代わりにTF1.xにあった共有レイヤー機能などは削除されています。（つまりKerasで書け。ということみたいです）  \n",
        "Kerasには色々なAPIがありますが、Model作成に関係するのは以下の3つのAPIです。\n",
        "\n",
        "- Sequencial API\n",
        "- Functional API\n",
        "- SubClass API\n",
        "\n",
        "これを使えば基本的に全てのモデルを作れるといってもいいくらい自由度が高いAPIになっています。\n",
        "これらをCIFAR10モデルを例にチュートリアルしていこうと思います。"
      ]
    },
    {
      "cell_type": "markdown",
      "metadata": {
        "id": "7pv9Ad3K2MQd",
        "colab_type": "text"
      },
      "source": [
        "# 環境設定\n",
        "\n"
      ]
    },
    {
      "cell_type": "markdown",
      "metadata": {
        "id": "zjpX0-F72ROy",
        "colab_type": "text"
      },
      "source": [
        "## Colabの環境設定\n",
        "\n",
        "まず、学習が重いので、  \n",
        "[ランタイム]→[ランタイムのタイプを変更]を探して頂いて、  \n",
        "Noneとなっている部分をGPUに変更するようにお願いします。\n",
        "\n",
        "その後、以下のコードを実行します。\n"
      ]
    },
    {
      "cell_type": "code",
      "metadata": {
        "id": "UBodXyEa2k1o",
        "colab_type": "code",
        "colab": {}
      },
      "source": [
        "!pip install --upgrade tensorflow==2.0.0\n",
        "!pip install --upgrade tensorflow-gpu=2.0.0\n"
      ],
      "execution_count": 0,
      "outputs": []
    },
    {
      "cell_type": "markdown",
      "metadata": {
        "id": "4pTGTEF12HND",
        "colab_type": "text"
      },
      "source": [
        "## import\n",
        "インポートします。\n",
        "\n"
      ]
    },
    {
      "cell_type": "code",
      "metadata": {
        "id": "ubxwKGEi2Ghw",
        "colab_type": "code",
        "colab": {}
      },
      "source": [
        "import tensorflow as tf\n",
        "import tensorflow.keras as keras\n",
        "import matplotlib.pyplot as plt\n",
        "import numpy as np \n",
        "\n",
        "print(\"TensorFlow Version:\",tf.__version__)\n"
      ],
      "execution_count": 0,
      "outputs": []
    },
    {
      "cell_type": "markdown",
      "metadata": {
        "id": "xfLFT3Kb3DEj",
        "colab_type": "text"
      },
      "source": [
        "# CIFAR10を扱う\n",
        "\n",
        "今回チュートリアルで用いるのは皆さんお馴染みの[CIFAR10データセット](https://www.cs.toronto.edu/~kriz/cifar.html)です。  \n",
        "データは(32,32,3)でのテンソルで表現されています。ダウンロードは`tf.keras`から行うことができます。"
      ]
    },
    {
      "cell_type": "markdown",
      "metadata": {
        "id": "wcAZaV3b3JNk",
        "colab_type": "text"
      },
      "source": [
        "## データセットをダウンロード\n"
      ]
    },
    {
      "cell_type": "code",
      "metadata": {
        "id": "PSF9fZGN3Gq8",
        "colab_type": "code",
        "colab": {}
      },
      "source": [
        "(Train_X,Train_Y),(Test_X,Test_Y) = keras.datasets.cifar10.load_data()\n",
        "Train_X,Test_X = Train_X/255.0, Test_X/255.0"
      ],
      "execution_count": 0,
      "outputs": []
    },
    {
      "cell_type": "markdown",
      "metadata": {
        "id": "1Oqqcv-73O7c",
        "colab_type": "text"
      },
      "source": [
        "##データの表示\n",
        "\n",
        "一度表示させてみましょう。"
      ]
    },
    {
      "cell_type": "code",
      "metadata": {
        "id": "0M3_IVQY3TY4",
        "colab_type": "code",
        "colab": {}
      },
      "source": [
        "import random\n",
        "\n",
        "X = random.choice(Train_X)\n",
        "print(X.shape)\n",
        "plt.figure(facecolor=\"white\")\n",
        "plt.imshow(X)\n",
        "plt.colorbar()\n",
        "plt.grid(False)\n",
        "plt.title(\"CIFAR10 sample\")\n",
        "plt.show()"
      ],
      "execution_count": 0,
      "outputs": []
    },
    {
      "cell_type": "markdown",
      "metadata": {
        "id": "H2b7BhMn3V30",
        "colab_type": "text"
      },
      "source": [
        "次にランダムに沢山表示させてみましょう。"
      ]
    },
    {
      "cell_type": "code",
      "metadata": {
        "id": "uWh7gmLd3ZCu",
        "colab_type": "code",
        "colab": {}
      },
      "source": [
        "labels = np.array([\n",
        "    'airplane',\n",
        "    'automobile',\n",
        "    'bird',\n",
        "    'cat',\n",
        "    'deer',\n",
        "    'dog',\n",
        "    'frog',\n",
        "    'horse',\n",
        "    'ship',\n",
        "    'truck'])\n",
        "plt.figure(figsize=(10,30),facecolor=\"white\")\n",
        "index=random.randint(0,Train_Y.shape[0]-25)\n",
        "for i in range(75):\n",
        "    plt.subplot(15,5,i+1)\n",
        "    plt.xticks([])\n",
        "    plt.yticks([])\n",
        "    plt.grid(False)\n",
        "    plt.imshow(Train_X[i+index])\n",
        "    plt.xlabel(labels[Train_Y[i+index][0]])\n",
        "plt.show()"
      ],
      "execution_count": 0,
      "outputs": []
    },
    {
      "cell_type": "markdown",
      "metadata": {
        "id": "ibkhBajJ3cMx",
        "colab_type": "text"
      },
      "source": [
        "分布を表示させてみましょう。"
      ]
    },
    {
      "cell_type": "code",
      "metadata": {
        "id": "vyL9-a283eas",
        "colab_type": "code",
        "colab": {}
      },
      "source": [
        "import collections\n",
        "c=collections.Counter(Train_Y.reshape(-1))\n",
        "c=sorted(c.items(),key=lambda x:x[0])\n",
        "left = [label for label,count in c]\n",
        "hight = [count for label,count in c]\n",
        "\n",
        "plt.figure(facecolor=\"white\")\n",
        "plt.bar(left,hight,tick_label=left)\n",
        "plt.show()"
      ],
      "execution_count": 0,
      "outputs": []
    },
    {
      "cell_type": "markdown",
      "metadata": {
        "id": "kP2y6e6R3gdm",
        "colab_type": "text"
      },
      "source": [
        "各ラベル、5000枚均一のようですね。\n"
      ]
    },
    {
      "cell_type": "markdown",
      "metadata": {
        "id": "XOWP8nRs3iu2",
        "colab_type": "text"
      },
      "source": [
        ""
      ]
    },
    {
      "cell_type": "code",
      "metadata": {
        "id": "HQ0RTsBi3iHw",
        "colab_type": "code",
        "colab": {}
      },
      "source": [
        ""
      ],
      "execution_count": 0,
      "outputs": []
    }
  ]
}