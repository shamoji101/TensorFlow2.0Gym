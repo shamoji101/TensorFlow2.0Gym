{
  "nbformat": 4,
  "nbformat_minor": 0,
  "metadata": {
    "colab": {
      "name": "Make_Inception_Network_with_TF20.ipynb",
      "provenance": [],
      "toc_visible": true,
      "include_colab_link": true
    },
    "kernelspec": {
      "name": "python3",
      "display_name": "Python 3"
    },
    "accelerator": "GPU"
  },
  "cells": [
    {
      "cell_type": "markdown",
      "metadata": {
        "id": "view-in-github",
        "colab_type": "text"
      },
      "source": [
        "<a href=\"https://colab.research.google.com/github/shamoji101/TensorFlow2.0Gym/blob/add_make_inception_with_tf20/Make_Inception_Network_with_TF20.ipynb\" target=\"_parent\"><img src=\"https://colab.research.google.com/assets/colab-badge.svg\" alt=\"Open In Colab\"/></a>"
      ]
    },
    {
      "cell_type": "markdown",
      "metadata": {
        "id": "s0gepEqW13oR",
        "colab_type": "text"
      },
      "source": [
        "# はじめに\n",
        "\n",
        "今回の記事では、TF2.0付属のKerasModuleを用いて、様々な内容の\n",
        "この記事はColabratoryで直接動かすことができます。\n",
        "動かしながら確認したい方は是非利用してみてください。\n"
      ]
    },
    {
      "cell_type": "markdown",
      "metadata": {
        "id": "vejcSCLN2CeY",
        "colab_type": "text"
      },
      "source": [
        "# 新しく統合されたKerasと3つのAPIについて\n",
        "\n",
        "KerasはTF2.0からcontribレイヤーから正式なTFの仲間入りをしました。\n",
        "代わりにTF1.xにあった共有レイヤー機能などは削除されています。（つまりKerasで書け。ということみたいです）  \n",
        "Kerasには色々なAPIがありますが、Model作成に関係するのは以下の3つのAPIです。\n",
        "\n",
        "- Sequencial API\n",
        "- Functional API\n",
        "- SubClass API\n",
        "\n",
        "これを使えば基本的に全てのモデルを作れるといってもいいくらい自由度が高いAPIになっています。\n",
        "これらをCIFAR10モデルを例にチュートリアルしていこうと思います。"
      ]
    },
    {
      "cell_type": "markdown",
      "metadata": {
        "id": "7pv9Ad3K2MQd",
        "colab_type": "text"
      },
      "source": [
        "# 環境設定\n",
        "\n"
      ]
    },
    {
      "cell_type": "markdown",
      "metadata": {
        "id": "zjpX0-F72ROy",
        "colab_type": "text"
      },
      "source": [
        "## Colabの環境設定\n",
        "\n",
        "まず、学習が重いので、  \n",
        "[ランタイム]→[ランタイムのタイプを変更]を探して頂いて、  \n",
        "Noneとなっている部分をGPUに変更するようにお願いします。\n",
        "\n",
        "その後、以下のコードを実行します。\n"
      ]
    },
    {
      "cell_type": "code",
      "metadata": {
        "id": "UBodXyEa2k1o",
        "colab_type": "code",
        "colab": {}
      },
      "source": [
        "!pip install --upgrade tensorflow==2.0.0\n",
        "!pip install --upgrade tensorflow-gpu=2.0.0\n"
      ],
      "execution_count": 0,
      "outputs": []
    },
    {
      "cell_type": "markdown",
      "metadata": {
        "id": "4pTGTEF12HND",
        "colab_type": "text"
      },
      "source": [
        "## import\n",
        "インポートします。\n",
        "\n"
      ]
    },
    {
      "cell_type": "code",
      "metadata": {
        "id": "ubxwKGEi2Ghw",
        "colab_type": "code",
        "colab": {}
      },
      "source": [
        "import tensorflow as tf\n",
        "import tensorflow.keras as keras\n",
        "import matplotlib.pyplot as plt\n",
        "import numpy as np \n",
        "\n",
        "print(\"TensorFlow Version:\",tf.__version__)\n"
      ],
      "execution_count": 0,
      "outputs": []
    },
    {
      "cell_type": "markdown",
      "metadata": {
        "id": "xfLFT3Kb3DEj",
        "colab_type": "text"
      },
      "source": [
        "# CIFAR10を扱う\n",
        "\n",
        "今回チュートリアルで用いるのは皆さんお馴染みの[CIFAR10データセット](https://www.cs.toronto.edu/~kriz/cifar.html)です。  \n",
        "データは(32,32,3)でのテンソルで表現されています。ダウンロードは`tf.keras`から行うことができます。"
      ]
    },
    {
      "cell_type": "markdown",
      "metadata": {
        "id": "wcAZaV3b3JNk",
        "colab_type": "text"
      },
      "source": [
        "## データセットをダウンロード\n"
      ]
    },
    {
      "cell_type": "code",
      "metadata": {
        "id": "PSF9fZGN3Gq8",
        "colab_type": "code",
        "colab": {}
      },
      "source": [
        "(Train_X,Train_Y),(Test_X,Test_Y) = keras.datasets.cifar10.load_data()\n",
        "Train_X,Test_X = Train_X/255.0, Test_X/255.0"
      ],
      "execution_count": 0,
      "outputs": []
    },
    {
      "cell_type": "markdown",
      "metadata": {
        "id": "1Oqqcv-73O7c",
        "colab_type": "text"
      },
      "source": [
        "##データの表示\n",
        "\n",
        "一度表示させてみましょう。"
      ]
    },
    {
      "cell_type": "code",
      "metadata": {
        "id": "0M3_IVQY3TY4",
        "colab_type": "code",
        "colab": {}
      },
      "source": [
        "import random\n",
        "\n",
        "X = random.choice(Train_X)\n",
        "print(X.shape)\n",
        "plt.figure(facecolor=\"white\")\n",
        "plt.imshow(X)\n",
        "plt.colorbar()\n",
        "plt.grid(False)\n",
        "plt.title(\"CIFAR10 sample\")\n",
        "plt.show()"
      ],
      "execution_count": 0,
      "outputs": []
    },
    {
      "cell_type": "markdown",
      "metadata": {
        "id": "H2b7BhMn3V30",
        "colab_type": "text"
      },
      "source": [
        "次にランダムに沢山表示させてみましょう。"
      ]
    },
    {
      "cell_type": "code",
      "metadata": {
        "id": "uWh7gmLd3ZCu",
        "colab_type": "code",
        "colab": {}
      },
      "source": [
        "labels = np.array([\n",
        "    'airplane',\n",
        "    'automobile',\n",
        "    'bird',\n",
        "    'cat',\n",
        "    'deer',\n",
        "    'dog',\n",
        "    'frog',\n",
        "    'horse',\n",
        "    'ship',\n",
        "    'truck'])\n",
        "plt.figure(figsize=(10,30),facecolor=\"white\")\n",
        "index=random.randint(0,Train_Y.shape[0]-25)\n",
        "for i in range(75):\n",
        "    plt.subplot(15,5,i+1)\n",
        "    plt.xticks([])\n",
        "    plt.yticks([])\n",
        "    plt.grid(False)\n",
        "    plt.imshow(Train_X[i+index])\n",
        "    plt.xlabel(labels[Train_Y[i+index][0]])\n",
        "plt.show()"
      ],
      "execution_count": 0,
      "outputs": []
    },
    {
      "cell_type": "markdown",
      "metadata": {
        "id": "ibkhBajJ3cMx",
        "colab_type": "text"
      },
      "source": [
        "分布を表示させてみましょう。"
      ]
    },
    {
      "cell_type": "code",
      "metadata": {
        "id": "vyL9-a283eas",
        "colab_type": "code",
        "colab": {}
      },
      "source": [
        "import collections\n",
        "c=collections.Counter(Train_Y.reshape(-1))\n",
        "c=sorted(c.items(),key=lambda x:x[0])\n",
        "left = [label for label,count in c]\n",
        "hight = [count for label,count in c]\n",
        "\n",
        "plt.figure(facecolor=\"white\")\n",
        "plt.bar(left,hight,tick_label=left)\n",
        "plt.show()"
      ],
      "execution_count": 0,
      "outputs": []
    },
    {
      "cell_type": "markdown",
      "metadata": {
        "id": "kP2y6e6R3gdm",
        "colab_type": "text"
      },
      "source": [
        "各ラベル、5000枚均一のようですね。\n"
      ]
    },
    {
      "cell_type": "markdown",
      "metadata": {
        "id": "XOWP8nRs3iu2",
        "colab_type": "text"
      },
      "source": [
        "# チュートリアル１：KerasのSequentialAPIで問題を解く。\n"
      ]
    },
    {
      "cell_type": "markdown",
      "metadata": {
        "id": "8V-fJUj44AJ_",
        "colab_type": "text"
      },
      "source": [
        "## SequentialAPI\n",
        "\n",
        "SequentialAPIは、Kerasの中ではもっとも簡単なDNNModelの書き方で、\n",
        "その分直列一直線にしかModelを組めません。\n",
        "\n",
        "まずは複雑なモデルは組まず、単純なConv2Dモデルでやってみましょう。\n",
        "\n",
        "SequentialAPIは基本的に以下のように記述します。\n",
        "\n"
      ]
    },
    {
      "cell_type": "code",
      "metadata": {
        "id": "HQ0RTsBi3iHw",
        "colab_type": "code",
        "colab": {}
      },
      "source": [
        "model=keras.Sequential()\n",
        "model.add(keras.layers.Conv2D(filters=16,kernel_size=(3,3),padding=\"same\",input_shape=(32,32,3)))\n",
        "model.add(keras.layers.Conv2D(filters=16,kernel_size=(3,3),padding=\"same\"))\n",
        "model.add(keras.layers.MaxPool2D())\n",
        "model.add(keras.layers.Conv2D(filters=64,kernel_size=(3,3),padding=\"same\"))\n",
        "model.add(keras.layers.Conv2D(filters=64,kernel_size=(3,3),padding=\"same\"))\n",
        "model.add(keras.layers.MaxPool2D())\n",
        "model.add(keras.layers.Conv2D(filters=256,kernel_size=(3,3),padding=\"same\"))\n",
        "model.add(keras.layers.Conv2D(filters=256,kernel_size=(3,3),padding=\"same\"))\n",
        "model.add(keras.layers.MaxPool2D())\n",
        "model.add(keras.layers.Flatten())\n",
        "model.add(keras.layers.Dense(128,activation=\"relu\"))\n",
        "model.add(keras.layers.Dense(10,activation=\"sigmoid\"))\n",
        "model.compile(optimizer=\"adam\",loss=\"sparse_categorical_crossentropy\",metrics=[\"accuracy\"])\n",
        "model.summary()"
      ],
      "execution_count": 0,
      "outputs": []
    },
    {
      "cell_type": "markdown",
      "metadata": {
        "id": "vksdx-b75HZ5",
        "colab_type": "text"
      },
      "source": [
        "このようにaddしていくことでDNNModelを構築することができます。\n",
        "\n",
        "## 実際に学習させてみる\n",
        "\n",
        "学習させてみましょう。やり方は簡単で、modelインスタンスの`.fit`を使用すればいいだけです。"
      ]
    },
    {
      "cell_type": "code",
      "metadata": {
        "id": "kzYx1pZM5Jx0",
        "colab_type": "code",
        "colab": {}
      },
      "source": [
        "history=model.fit(Train_X,Train_Y,validation_split=0.2,epochs=10,batch_size=128)"
      ],
      "execution_count": 0,
      "outputs": []
    },
    {
      "cell_type": "markdown",
      "metadata": {
        "id": "BCTqawcH5Mkx",
        "colab_type": "text"
      },
      "source": [
        "ちなみに、Colabで場合、自動的にGPUモードで学習してくれます。\n",
        "\n",
        "評価は以下のように行うことができます。\n"
      ]
    },
    {
      "cell_type": "code",
      "metadata": {
        "id": "ayas9Oi35cGA",
        "colab_type": "code",
        "colab": {}
      },
      "source": [
        "model.evaluate(Test_X,Test_Y,batch_size=128,verbose=0)"
      ],
      "execution_count": 0,
      "outputs": []
    },
    {
      "cell_type": "markdown",
      "metadata": {
        "id": "KsPOXi095gBA",
        "colab_type": "text"
      },
      "source": [
        "左はloss、右はAccuracyを示しています。\n",
        "## グラフの表示\n",
        "グラフを表示させてみましょう。\n"
      ]
    },
    {
      "cell_type": "code",
      "metadata": {
        "id": "gc4d11IU5ibD",
        "colab_type": "code",
        "colab": {}
      },
      "source": [
        "# Accuracyを表示\n",
        "plt.figure(figsize=(7,5),facecolor=\"white\")\n",
        "plt.plot(history.history['accuracy'])\n",
        "plt.plot(history.history['val_accuracy'])\n",
        "plt.title('Model accuracy')\n",
        "plt.ylabel('Accuracy')\n",
        "plt.xlabel('Epoch')\n",
        "plt.legend(['Train', 'Test'], loc='upper left')\n",
        "plt.show()\n",
        "\n",
        "# lossを表示\n",
        "plt.figure(figsize=(7,5),facecolor=\"white\")\n",
        "plt.plot(history.history['loss'])\n",
        "plt.plot(history.history['val_loss'])\n",
        "plt.title('Model loss')\n",
        "plt.ylabel('Loss')\n",
        "plt.xlabel('Epoch')\n",
        "plt.legend(['Train', 'Test'], loc='upper left')\n",
        "plt.show()"
      ],
      "execution_count": 0,
      "outputs": []
    },
    {
      "cell_type": "markdown",
      "metadata": {
        "id": "8my_dZS75lx2",
        "colab_type": "text"
      },
      "source": [
        "お手本のような過学習が起きています。  \n",
        "次こそはいいモデルを作るために、InceptionV3と呼ばれるモデルを作成してみましょう。\n",
        "\n",
        "# チュートリアル2:Functional API\n"
      ]
    },
    {
      "cell_type": "markdown",
      "metadata": {
        "id": "iRj_WCch58wd",
        "colab_type": "text"
      },
      "source": [
        "## Inceptionを構成する\n",
        "InceptionV3は非常に複雑なモデルですが、FunctionalAPIを用いれば簡単に構築できます。  \n",
        "InceptionV3の名前はInceptionModuleから来ています。InceptionModuleは[参考文献](https://arxiv.org/abs/1512.00567)から引用すると、以下のように構成されています。(他にも様々なバリエーションがあります。)  \n",
        "![Inception](https://qiita-image-store.s3.ap-northeast-1.amazonaws.com/0/145843/8238d321-1ddb-b228-d0df-6332c8c7b8ce.png)\n",
        "\n",
        "\n",
        "CIFAR10と論文中のコンペとでは画像サイズが違うため、一部改造してInceptionModuleをFunctionalAPIで組んで行きましょう。  \n",
        "4つ伸びている線を左からCell1,Cell2,Cell3,Cell4と名前をつけます。\n",
        "実際にInceptionModuleを組んでいくと以下のようなモデルになります。"
      ]
    },
    {
      "cell_type": "code",
      "metadata": {
        "id": "uE_0MZf35qyU",
        "colab_type": "code",
        "colab": {}
      },
      "source": [
        "input_x=keras.Input((32,32,3))\n",
        "x = keras.layers.Conv2D(32,3,padding=\"same\")(input_x)\n",
        "out_x = keras.layers.Conv2D(64,3,strides=2,padding=\"same\")(x)\n",
        "\n",
        "output_filter = 128\n",
        "#--inceptionModuleStart---#\n",
        "cell1 = keras.layers.Conv2D(output_filter//4,1,padding=\"same\")(out_x)\n",
        "cell1 = keras.layers.Conv2D(output_filter//4,3,padding=\"same\")(cell1)\n",
        "cell1 = keras.layers.Conv2D(output_filter//4,3,padding=\"same\")(cell1)\n",
        "\n",
        "cell2 = keras.layers.Conv2D(output_filter//4,1,padding=\"same\")(out_x)\n",
        "cell2 = keras.layers.Conv2D(output_filter//4,3,padding=\"same\")(cell2)\n",
        "\n",
        "cell3 = keras.layers.MaxPool2D(pool_size=(2,2),strides=1,padding=\"same\")(out_x)\n",
        "cell3 = keras.layers.Conv2D(output_filter//4,1,padding=\"same\")(cell3)\n",
        "\n",
        "cell4 = keras.layers.Conv2D(output_filter//4,1,padding=\"same\")(out_x)\n",
        "\n",
        "x = keras.layers.Concatenate()([cell1,cell2,cell3,cell4])\n",
        "#--inceptionModuleEnd---#\n",
        "x = keras.layers.Flatten()(x)\n",
        "x = keras.layers.Dense(128,activation=\"relu\")(x)\n",
        "x = keras.layers.Dropout(0.4)(x)\n",
        "output_x = keras.layers.Dense(10,activation=\"softmax\")(x)\n",
        "\n",
        "model=keras.Model(input_x,output_x)\n",
        "model.compile(optimizer=\"adam\",loss=\"sparse_categorical_crossentropy\",metrics=[\"accuracy\"])\n",
        "model.summary()"
      ],
      "execution_count": 0,
      "outputs": []
    },
    {
      "cell_type": "markdown",
      "metadata": {
        "id": "wZFZA5XS6ReD",
        "colab_type": "text"
      },
      "source": [
        "カッコが二つ！と驚かれると思いますが、これはコンストラクタの()と関数としての()という意味で別になります。  \n",
        "どちらかというと、tensorflowというよりも、Kerasの仕様に近いですね。\n",
        "\n",
        "こんな風にして数珠つなぎをすることができます。注目してほしいのは、どのCellのはじめには`out_x`が入っています。  \n",
        "こうする事により、同じ入力を別の4つのNNに入力することがFunctionalAPIではできるのです。\n",
        "\n",
        "## FunctionalAPIの解説\n",
        "だだーっと解説しましたが、FunctionalAPIのポイントは、\n",
        "\n"
      ]
    },
    {
      "cell_type": "code",
      "metadata": {
        "id": "cj6aaz7e6XYW",
        "colab_type": "code",
        "colab": {}
      },
      "source": [
        "input_x = keras.Input(shape) #バッチを除いた単一のデータ入力サイズを指定したInputLayer\n",
        "x = keras.layers.Dense(dense_size, activation=\"relu\")(input_x) #NN中間層\n",
        "output_x = keras.layers.Dense(1,activation=\"softmax\")(x)#NN最終層\n",
        "model = keras.Model(inputs=input_x, outputs=output_x)#入力と出力を設定してモデルインスタンスを作成"
      ],
      "execution_count": 0,
      "outputs": []
    },
    {
      "cell_type": "markdown",
      "metadata": {
        "id": "15B_-LXn6gTv",
        "colab_type": "text"
      },
      "source": [
        "となります。  \n",
        "ちなみに複数のInput、Outputも設定できます。  \n",
        "その場合はTupleでinputs/outputs引数に入れれば自動でfitしてくれます。  \n",
        "(詳細については後日カレンダーが空いていたらやろうかと思います。)"
      ]
    },
    {
      "cell_type": "markdown",
      "metadata": {
        "id": "BBSd8S5g6uO9",
        "colab_type": "text"
      },
      "source": [
        "さらに以下のことを加えます。\n",
        "\n",
        "* GlovalAveragePoolingを使用\n",
        "* Convolution後にReLUを使用\n",
        "* DropOutを適応\n",
        "\n",
        "そうすると最終形として、以下のようになります。"
      ]
    },
    {
      "cell_type": "code",
      "metadata": {
        "id": "vBC8CHk76nPM",
        "colab_type": "code",
        "colab": {}
      },
      "source": [
        "input_x=keras.Input((32,32,3))\n",
        "x = keras.layers.Conv2D(32,3,padding=\"same\",activation=\"relu\")(input_x)\n",
        "x = keras.layers.Dropout(0.1)(x)\n",
        "x = keras.layers.Conv2D(32,3,padding=\"same\",activation=\"relu\")(x)\n",
        "x = keras.layers.Dropout(0.1)(x)\n",
        "x = keras.layers.Conv2D(64,3,padding=\"same\",activation=\"relu\")(x)\n",
        "x = keras.layers.Dropout(0.1)(x)\n",
        "out_x = keras.layers.MaxPool2D()(x)\n",
        "\n",
        "output_filter = 128\n",
        "#--inceptionModule--#\n",
        "cell1 = keras.layers.Conv2D(output_filter//4,1,padding=\"same\",activation=\"relu\")(out_x)\n",
        "cell1 = keras.layers.Conv2D(output_filter//4,3,padding=\"same\",activation=\"relu\")(cell1)\n",
        "cell1 = keras.layers.Conv2D(output_filter//4,3,padding=\"same\",activation=\"relu\")(cell1)\n",
        "\n",
        "cell2 = keras.layers.Conv2D(output_filter//4,1,padding=\"same\",activation=\"relu\")(out_x)\n",
        "cell2 = keras.layers.Conv2D(output_filter//4,3,padding=\"same\",activation=\"relu\")(cell2)\n",
        "\n",
        "cell3 = keras.layers.MaxPool2D(pool_size=(2,2),strides=1,padding=\"same\")(out_x)\n",
        "cell3 = keras.layers.Conv2D(output_filter//4,1,padding=\"same\",activation=\"relu\")(cell3)\n",
        "\n",
        "cell4 = keras.layers.Conv2D(output_filter//4,1,padding=\"same\",activation=\"relu\")(out_x)\n",
        "\n",
        "out_x = keras.layers.Concatenate()([cell1,cell2,cell3,cell4])\n",
        "\n",
        "output_filter = 128\n",
        "#--inceptionModule--#\n",
        "cell1 = keras.layers.Conv2D(output_filter//4,1,padding=\"same\",activation=\"relu\")(out_x)\n",
        "cell1 = keras.layers.Conv2D(output_filter//4,3,padding=\"same\",activation=\"relu\")(cell1)\n",
        "cell1 = keras.layers.Conv2D(output_filter//4,3,padding=\"same\",activation=\"relu\")(cell1)\n",
        "\n",
        "cell2 = keras.layers.Conv2D(output_filter//4,1,padding=\"same\",activation=\"relu\")(out_x)\n",
        "cell2 = keras.layers.Conv2D(output_filter//4,3,padding=\"same\",activation=\"relu\")(cell2)\n",
        "\n",
        "cell3 = keras.layers.MaxPool2D(pool_size=(2,2),strides=1,padding=\"same\")(out_x)\n",
        "cell3 = keras.layers.Conv2D(output_filter//4,1,padding=\"same\",activation=\"relu\")(cell3)\n",
        "\n",
        "cell4 = keras.layers.Conv2D(output_filter//4,1,padding=\"same\",activation=\"relu\")(out_x)\n",
        "\n",
        "out_x = keras.layers.Concatenate()([cell1,cell2,cell3,cell4])\n",
        "\n",
        "output_filter = 256\n",
        "\n",
        "#--inception_reduction#\n",
        "cell1 = keras.layers.Conv2D(output_filter//2,1,padding=\"same\",activation=\"relu\")(out_x)\n",
        "cell1 = keras.layers.Conv2D(output_filter//2,3,padding=\"same\",activation=\"relu\")(cell1)\n",
        "cell1 = keras.layers.Conv2D(output_filter//2,3,strides=2,padding=\"same\",activation=\"relu\")(cell1)\n",
        "\n",
        "cell2 = keras.layers.Conv2D(output_filter//2,1,padding=\"same\",activation=\"relu\")(out_x)\n",
        "cell2 = keras.layers.Conv2D(output_filter//2,3,strides=2,padding=\"same\",activation=\"relu\")(cell2)\n",
        "\n",
        "cell3 = keras.layers.MaxPool2D(pool_size=(2,2),strides=2,padding=\"same\")(out_x)\n",
        "\n",
        "\n",
        "x = keras.layers.Concatenate()([cell1,cell2,cell3])\n",
        "\n",
        "x = keras.layers.GlobalAveragePooling2D()(x)\n",
        "\n",
        "x = keras.layers.Dense(200,activation=\"relu\")(x)\n",
        "x = keras.layers.Dropout(0.4)(x)\n",
        "output_x = keras.layers.Dense(10,activation=\"softmax\")(x)\n",
        "\n",
        "model=keras.Model(input_x,output_x)\n",
        "model.compile(optimizer=\"adam\",loss=\"sparse_categorical_crossentropy\",metrics=[\"accuracy\"])\n",
        "model.summary()"
      ],
      "execution_count": 0,
      "outputs": []
    },
    {
      "cell_type": "markdown",
      "metadata": {
        "id": "RBqymVap61_k",
        "colab_type": "text"
      },
      "source": [
        "\n",
        "## 学習させてみる\n",
        "学習させてみましょう。"
      ]
    },
    {
      "cell_type": "code",
      "metadata": {
        "id": "qqgpR2hl7BBd",
        "colab_type": "code",
        "colab": {}
      },
      "source": [
        "history=model.fit(Train_X,Train_Y,validation_split=0.2,epochs=10,batch_size=128)"
      ],
      "execution_count": 0,
      "outputs": []
    },
    {
      "cell_type": "code",
      "metadata": {
        "id": "VQrXkZhp7F0G",
        "colab_type": "code",
        "colab": {}
      },
      "source": [
        "model.evaluate(Test_X,Test_Y,batch_size=128,verbose=0)"
      ],
      "execution_count": 0,
      "outputs": []
    },
    {
      "cell_type": "markdown",
      "metadata": {
        "id": "Zi-pPa7q7DGB",
        "colab_type": "text"
      },
      "source": [
        "ここでは結果としては悪くなってるかもしれません。　グラフをみてみましょう。"
      ]
    },
    {
      "cell_type": "code",
      "metadata": {
        "id": "hAMTvckk7LRu",
        "colab_type": "code",
        "colab": {}
      },
      "source": [
        "# Accuracyを表示\n",
        "plt.figure(figsize=(7,5),facecolor=\"white\")\n",
        "plt.plot(history.history['accuracy'])\n",
        "plt.plot(history.history['val_accuracy'])\n",
        "plt.title('Model accuracy')\n",
        "plt.ylabel('Accuracy')\n",
        "plt.xlabel('Epoch')\n",
        "plt.legend(['Train', 'Test'], loc='upper left')\n",
        "plt.show()\n",
        "\n",
        "# lossを表示\n",
        "plt.figure(figsize=(7,5),facecolor=\"white\")\n",
        "plt.plot(history.history['loss'])\n",
        "plt.plot(history.history['val_loss'])\n",
        "plt.title('Model loss')\n",
        "plt.ylabel('Loss')\n",
        "plt.xlabel('Epoch')\n",
        "plt.legend(['Train', 'Test'], loc='upper left')\n",
        "plt.show()"
      ],
      "execution_count": 0,
      "outputs": []
    },
    {
      "cell_type": "markdown",
      "metadata": {
        "id": "9oc-xMRw7SNf",
        "colab_type": "text"
      },
      "source": [
        "過学習が非常に抑えられているグラフが出るはずです。もっとepoch数を伸ばしたらもっとよくなりそうですね。"
      ]
    },
    {
      "cell_type": "code",
      "metadata": {
        "id": "bfdfn1tL7XIK",
        "colab_type": "code",
        "colab": {}
      },
      "source": [
        "history=model.fit(Train_X,Train_Y,validation_split=0.2,epochs=100,batch_size=128)\n",
        "print(model.evaluate(Test_X,Test_Y,batch_size=128,verbose=0))\n",
        "# Accuracyを表示\n",
        "plt.figure(figsize=(7,5),facecolor=\"white\")\n",
        "plt.plot(history.history['accuracy'])\n",
        "plt.plot(history.history['val_accuracy'])\n",
        "plt.title('Model accuracy')\n",
        "plt.ylabel('Accuracy')\n",
        "plt.xlabel('Epoch')\n",
        "plt.legend(['Train', 'Test'], loc='upper left')\n",
        "plt.show()\n",
        "\n",
        "# lossを表示\n",
        "plt.figure(figsize=(7,5),facecolor=\"white\")\n",
        "plt.plot(history.history['loss'])\n",
        "plt.plot(history.history['val_loss'])\n",
        "plt.title('Model loss')\n",
        "plt.ylabel('Loss')\n",
        "plt.xlabel('Epoch')\n",
        "plt.legend(['Train', 'Test'], loc='upper left')\n",
        "plt.show()"
      ],
      "execution_count": 0,
      "outputs": []
    },
    {
      "cell_type": "markdown",
      "metadata": {
        "id": "XvW0yZgB7Wj-",
        "colab_type": "text"
      },
      "source": [
        "# チュートリアル3: SubClass API\n"
      ]
    },
    {
      "cell_type": "markdown",
      "metadata": {
        "id": "fbZiLb-t7ydP",
        "colab_type": "text"
      },
      "source": [
        "\n",
        "## SubClass APIとは？\n",
        "\n",
        "SubClass APIとは、ざっくり言うとレイヤーやモデルを自作できる機能です。\n",
        "先ほどのInceptionを一つのLayerとして自作してみましょう。"
      ]
    },
    {
      "cell_type": "code",
      "metadata": {
        "id": "cgR-ywXk7x7E",
        "colab_type": "code",
        "colab": {}
      },
      "source": [
        ""
      ],
      "execution_count": 0,
      "outputs": []
    }
  ]
}